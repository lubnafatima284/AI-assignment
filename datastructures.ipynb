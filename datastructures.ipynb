{
 "cells": [
  {
   "cell_type": "code",
   "execution_count": 4,
   "metadata": {},
   "outputs": [
    {
     "name": "stdout",
     "output_type": "stream",
     "text": [
      "[1, 2, 3, 4, 5]\n",
      "['lubna', 'fatima', 'rahul', 'captian']\n"
     ]
    }
   ],
   "source": [
    "list1=[1,2,3,4,5]\n",
    "list2=['lubna','fatima','rahul','captian']\n",
    "print(list1)\n",
    "print(list2)\n"
   ]
  },
  {
   "cell_type": "code",
   "execution_count": 15,
   "metadata": {
    "scrolled": true
   },
   "outputs": [
    {
     "name": "stdout",
     "output_type": "stream",
     "text": [
      "2\n",
      "1\n",
      "0\n",
      "5\n",
      "ragu\n"
     ]
    }
   ],
   "source": [
    "tuple=(1,2,3,'lubu','ragu')\n",
    "print(tuple.index(3))\n",
    "print(tuple.index(2))\n",
    "print(tuple.index(1))\n",
    "print(len(tuple))\n",
    "print(tuple[4])"
   ]
  },
  {
   "cell_type": "code",
   "execution_count": 19,
   "metadata": {},
   "outputs": [
    {
     "name": "stdout",
     "output_type": "stream",
     "text": [
      "The dictionary before performing remove is : {'Arushi': 22, 'Anuradha': 21, 'Mani': 21, 'Haritha': 21}\n",
      "The dictionary after remove is : {'Arushi': 22, 'Anuradha': 21, 'Haritha': 21}\n",
      "The removed key's value is : 21\n"
     ]
    }
   ],
   "source": [
    "test_dict = {\"Arushi\" : 22, \"Anuradha\" : 21, \"Mani\" : 21, \"Haritha\" : 21} \n",
    "print (\"The dictionary before performing remove is : \" + str(test_dict)) \n",
    "removed_value = test_dict.pop('Mani') \n",
    "print (\"The dictionary after remove is : \" + str(test_dict)) \n",
    "print (\"The removed key's value is : \" + str(removed_value))\n",
    "print (\"The dictionary before performing remove is : \" + str(test_dict)) \n",
    "  \n",
    "# Using items() + dict comprehension to remove a dict. pair \n",
    "# removes Mani \n",
    "new_dict = {key:val for key, val in test_dict.items() if key != 'Mani'} \n",
    "  \n",
    "# Printing dictionary after removal \n",
    "print (\"The dictionary after remove is : \" + str(new_dict)) "
   ]
  }
 ],
 "metadata": {
  "kernelspec": {
   "display_name": "Python 3",
   "language": "python",
   "name": "python3"
  },
  "language_info": {
   "codemirror_mode": {
    "name": "ipython",
    "version": 3
   },
   "file_extension": ".py",
   "mimetype": "text/x-python",
   "name": "python",
   "nbconvert_exporter": "python",
   "pygments_lexer": "ipython3",
   "version": "3.7.6"
  }
 },
 "nbformat": 4,
 "nbformat_minor": 4
}
